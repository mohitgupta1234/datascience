{
 "cells": [
  {
   "cell_type": "code",
   "execution_count": 2,
   "id": "cb614553",
   "metadata": {},
   "outputs": [
    {
     "name": "stdout",
     "output_type": "stream",
     "text": [
      "vvvvvvvvvvvvvvvvvvvvvvvvvvvvvvvvvvvvjhgjgjhghgvhgvfhgnvnhnvhghnvhgmbnbnjbjhbbnmbhmvhgcgfdxfsdxdfzdsgnbbj,njk,jnkjbhjmvghcgfncfbnnnnnnbcnvvvmvvvgggggggggggggggggggggggggggggggggdxxcvbncngcxnbnngv bnnnnnnnnnnnnnnnnnnnnnnnnnnnnnnnnnnnnnnnb   bn\n"
     ]
    }
   ],
   "source": [
    "print('vvvvvvvvvvvvvvvvvvvvvvvvvvvvvvvvvvvvjhgjgjhghgvhgvfhgnvnhnvhghnvhgmbnbnjbjhbbnmbhmvhgcgfdxfsdxdfzdsgnbbj,njk,jnkjbhjmvghcgfncfbnnnnnnbcnvvvmvvvgggggggggggggggggggggggggggggggggdxxcvbncngcxnbnngv bnnnnnnnnnnnnnnnnnnnnnnnnnnnnnnnnnnnnnnnb   bn')"
   ]
  },
  {
   "cell_type": "code",
   "execution_count": null,
   "id": "430e8953",
   "metadata": {},
   "outputs": [],
   "source": []
  }
 ],
 "metadata": {
  "kernelspec": {
   "display_name": "Python 3 (ipykernel)",
   "language": "python",
   "name": "python3"
  },
  "language_info": {
   "codemirror_mode": {
    "name": "ipython",
    "version": 3
   },
   "file_extension": ".py",
   "mimetype": "text/x-python",
   "name": "python",
   "nbconvert_exporter": "python",
   "pygments_lexer": "ipython3",
   "version": "3.9.7"
  }
 },
 "nbformat": 4,
 "nbformat_minor": 5
}
