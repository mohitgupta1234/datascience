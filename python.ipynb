{
  "nbformat": 4,
  "nbformat_minor": 0,
  "metadata": {
    "colab": {
      "name": "python.ipynb",
      "provenance": []
    },
    "kernelspec": {
      "name": "python3",
      "display_name": "Python 3"
    },
    "language_info": {
      "name": "python"
    }
  },
  "cells": [
    {
      "cell_type": "code",
      "source": [
        "import pandas as pd\n",
        "df=pd.read_excel(r\"/content/Feature Engineering_01.xlsx\",sheet_name=1)\n",
        "#print(df.head())\n",
        "print(\"Detecting Outliers below\")\n",
        "max_threshold=df['Weight'].quantile(0.95)\n",
        "#above 95% that value is outliers\n",
        "print(\"max threshold:\",max_threshold)\n",
        "# Any weight greater than 393 is consider as outliers.\n",
        "print(df[df['Weight']>max_threshold])"
      ],
      "metadata": {
        "colab": {
          "base_uri": "https://localhost:8080/"
        },
        "id": "En8B2IyHutLA",
        "outputId": "19f543d4-ae41-4015-9524-825eee3c3089"
      },
      "execution_count": 5,
      "outputs": [
        {
          "output_type": "stream",
          "name": "stdout",
          "text": [
            "Detecting Outliers below\n",
            "max threshold: 393.9999999999998\n",
            "    Name  Weight\n",
            "8  Rohit     600\n"
          ]
        }
      ]
    },
    {
      "cell_type": "code",
      "source": [
        "import pandas as pd\n",
        "df2=pd.read_csv(\"/content/actual_house_price_india.csv\")\n",
        "print(df2.head())\n",
        "print(df2.shape)\n",
        "min_threshold,max_threshold=df2['price_per_sqft'].quantile([0.1,0.9])\n",
        "print(\"Threshold-\",min_threshold,max_threshold)\n",
        "df2nooutlier=df2[(df2['price_per_sqft']>min_threshold)&(df2['price_per_sqft']<max_threshold)]\n",
        "print(df2nooutlier)\n",
        "df2nooutlier.to_csv(\"actual_house_price_india.csv\",index=False)\n",
        "print(df2nooutlier.shape)\n",
        "#"
      ],
      "metadata": {
        "colab": {
          "base_uri": "https://localhost:8080/"
        },
        "id": "q_VHb5wNxDeB",
        "outputId": "82537874-4ff2-44ef-aa3e-e606d88b0a0a"
      },
      "execution_count": 6,
      "outputs": [
        {
          "output_type": "stream",
          "name": "stdout",
          "text": [
            "             location       size  total_sqft  bath   price  bhk  price_per_sqft\n",
            "0    Chikka Tirupathi  4 Bedroom      2600.0   5.0  120.00    4            4615\n",
            "1  Lingadheeranahalli      3 BHK      1521.0   3.0   95.00    3            6245\n",
            "2        Marathahalli      3 BHK      1310.0   3.0   63.25    3            4828\n",
            "3            Sarjapur  3 Bedroom      2250.0   3.0  148.00    3            6577\n",
            "4         Mysore Road      2 BHK      1175.0   2.0   73.50    2            6255\n",
            "(5377, 7)\n",
            "Threshold- 4676.0 6500.0\n",
            "                   location   size  total_sqft  ...   price  bhk  price_per_sqft\n",
            "1        Lingadheeranahalli  3 BHK      1521.0  ...   95.00    3            6245\n",
            "2              Marathahalli  3 BHK      1310.0  ...   63.25    3            4828\n",
            "4               Mysore Road  2 BHK      1175.0  ...   73.50    2            6255\n",
            "5                 Bellandur  3 BHK      1767.0  ...  103.00    3            5829\n",
            "6               Thanisandra   1 RK       510.0  ...   25.25    1            4950\n",
            "...                     ...    ...         ...  ...     ...  ...             ...\n",
            "5370             Whitefield  4 BHK      2856.0  ...  154.50    4            5409\n",
            "5371               Kothanur  3 BHK      1454.0  ...   71.50    3            4917\n",
            "5372           Yeshwanthpur  3 BHK      1675.0  ...   92.13    3            5500\n",
            "5373           Rachenahalli  2 BHK      1050.0  ...   52.71    2            5020\n",
            "5376  Raja Rajeshwari Nagar  2 BHK      1141.0  ...   60.00    2            5258\n",
            "\n",
            "[4296 rows x 7 columns]\n",
            "(4296, 7)\n"
          ]
        }
      ]
    },
    {
      "cell_type": "code",
      "source": [
        ""
      ],
      "metadata": {
        "id": "mgR_tmrrxm4Q"
      },
      "execution_count": null,
      "outputs": []
    }
  ]
}