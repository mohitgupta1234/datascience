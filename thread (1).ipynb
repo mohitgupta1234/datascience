{
  "nbformat": 4,
  "nbformat_minor": 0,
  "metadata": {
    "colab": {
      "name": "thread.ipynb",
      "provenance": []
    },
    "kernelspec": {
      "name": "python3",
      "display_name": "Python 3"
    },
    "language_info": {
      "name": "python"
    }
  },
  "cells": [
    {
      "cell_type": "code",
      "execution_count": null,
      "metadata": {
        "colab": {
          "base_uri": "https://localhost:8080/"
        },
        "id": "IX167f6wpFLP",
        "outputId": "3cd23bbd-d87a-4168-f47e-526fc7405208"
      },
      "outputs": [
        {
          "output_type": "stream",
          "name": "stdout",
          "text": [
            "child\n",
            "child\n",
            "child\n",
            "child\n",
            "child\n",
            "child\n",
            "child\n",
            "child\n",
            "child\n",
            "child\n",
            "main\n",
            "main\n",
            "main\n",
            "main\n",
            "main\n",
            "main\n",
            "main\n",
            "main\n",
            "main\n",
            "main\n"
          ]
        }
      ],
      "source": [
        "# creating thread.\n",
        "from threading import *\n",
        "def display():\n",
        "    for i in range(10):\n",
        "        print(\"child\")\n",
        "        \n",
        "t=Thread(target=display)\n",
        "t.start()\n",
        "t.join()\n",
        "\n",
        "for i in range(10):\n",
        "    print(\"main\")"
      ]
    },
    {
      "cell_type": "code",
      "source": [
        "from threading import *\n",
        "class MYthread(Thread):\n",
        "    def run(self):\n",
        "        for i in range(10):\n",
        "            print(\"child\")\n",
        "\n",
        "t=MYthread()\n",
        "t.start()\n",
        "#t.join()\n",
        "for i in range(10):\n",
        "    print(\"main\")"
      ],
      "metadata": {
        "colab": {
          "base_uri": "https://localhost:8080/"
        },
        "id": "mQTQ5uzppx_s",
        "outputId": "33b48ce9-b83d-4dbf-e159-0a4a0d283e56"
      },
      "execution_count": null,
      "outputs": [
        {
          "output_type": "stream",
          "name": "stdout",
          "text": [
            "childmain\n",
            "main\n",
            "main\n",
            "main\n",
            "main\n",
            "main\n",
            "main\n",
            "main\n",
            "main\n",
            "main\n",
            "\n",
            "child\n",
            "child\n",
            "child\n",
            "child\n",
            "child\n",
            "child\n",
            "child\n",
            "child\n",
            "child\n"
          ]
        }
      ]
    },
    {
      "cell_type": "code",
      "source": [
        "# without thread\n",
        "import time\n",
        "def doubles(numbers):\n",
        "    for n in numbers:\n",
        "        time.sleep(2)\n",
        "        print(\"Double values:\",2*n)\n",
        "\n",
        "def squares(numbers):\n",
        "    for n in numbers:\n",
        "        time.sleep(2)\n",
        "        print(\"Square values:\",n*n)\n",
        "begintime=time.time()\n",
        "numbers=[1,2,3,4,5,6]\n",
        "doubles(numbers)\n",
        "squares(numbers)\n",
        "endtime=time.time()\n",
        "print(\"The total time took:\",endtime-begintime)\n"
      ],
      "metadata": {
        "colab": {
          "base_uri": "https://localhost:8080/"
        },
        "id": "uEsxreoUp6L0",
        "outputId": "4679d9f2-6a3e-4663-9d88-120e5e869f7e"
      },
      "execution_count": null,
      "outputs": [
        {
          "output_type": "stream",
          "name": "stdout",
          "text": [
            "Double values: 2\n",
            "Double values: 4\n",
            "Double values: 6\n",
            "Double values: 8\n",
            "Double values: 10\n",
            "Double values: 12\n",
            "Square values: 1\n",
            "Square values: 4\n",
            "Square values: 9\n",
            "Square values: 16\n",
            "Square values: 25\n",
            "Square values: 36\n",
            "The total time took: 24.026891469955444\n"
          ]
        }
      ]
    },
    {
      "cell_type": "code",
      "source": [
        "import multiprocessing\n",
        "import time\n",
        "\n",
        "def sleepy_man():\n",
        "    print('Starting to sleep')\n",
        "    time.sleep(1)\n",
        "    print('Done sleeping')\n",
        "\n",
        "tic = time.time()\n",
        "p1 =  multiprocessing.Process(target= sleepy_man)\n",
        "p2 =  multiprocessing.Process(target= sleepy_man)\n",
        "p1.start()\n",
        "p2.start()\n",
        "p1.join()\n",
        "p2.join()\n",
        "toc = time.time()\n",
        "\n",
        "print('Done in {:.4f} seconds'.format(toc-tic))"
      ],
      "metadata": {
        "colab": {
          "base_uri": "https://localhost:8080/"
        },
        "id": "VRYXAAmkr4f3",
        "outputId": "ecd2695c-4f43-4915-82a4-5689b7e6d891"
      },
      "execution_count": null,
      "outputs": [
        {
          "output_type": "stream",
          "name": "stdout",
          "text": [
            "Starting to sleep\n",
            "Starting to sleep\n",
            "Done sleeping\n",
            "Done sleeping\n",
            "Done in 1.0414 seconds\n"
          ]
        }
      ]
    },
    {
      "cell_type": "code",
      "source": [
        "friends={}\n",
        "for i in range(5):\n",
        "  d_kv=input().split(\",\")\n",
        "  friends.update({d_kv[0]: d_kv[1]})\n",
        "  print(friends)"
      ],
      "metadata": {
        "colab": {
          "base_uri": "https://localhost:8080/"
        },
        "id": "v04HEe0dG5h3",
        "outputId": "3ba445d1-5071-446a-bd00-555cc799578f"
      },
      "execution_count": null,
      "outputs": [
        {
          "output_type": "stream",
          "name": "stdout",
          "text": [
            "mohit,19/12/1997\n",
            "{'mohit': '19/12/1997'}\n",
            "hvhg,09\n",
            "{'mohit': '19/12/1997', 'hvhg': '09'}\n",
            "khj,77\n",
            "{'mohit': '19/12/1997', 'hvhg': '09', 'khj': '77'}\n",
            "mmnbj,87\n",
            "{'mohit': '19/12/1997', 'hvhg': '09', 'khj': '77', 'mmnbj': '87'}\n",
            "gfdf,56\n",
            "{'mohit': '19/12/1997', 'hvhg': '09', 'khj': '77', 'mmnbj': '87', 'gfdf': '56'}\n"
          ]
        }
      ]
    },
    {
      "cell_type": "code",
      "source": [
        "import pandas as pd\n",
        "df=pd.read_excel(r\"/content/Feature Engineering_01.xlsx\",sheet_name=1)\n",
        "#print(df.head())\n",
        "print(\"Detecting Outliers below\")\n",
        "max_threshold=df['Weight'].quantile(0.95)\n",
        "#above 95% that value is outliers\n",
        "print(\"max threshold:\",max_threshold)\n",
        "# Any weight greater than 393 is consider as outliers.\n",
        "print(df[df['Weight']>max_threshold])"
      ],
      "metadata": {
        "colab": {
          "base_uri": "https://localhost:8080/"
        },
        "id": "_JyO54WYendt",
        "outputId": "de124ad4-d98d-4197-aa31-047fcb4ab270"
      },
      "execution_count": null,
      "outputs": [
        {
          "output_type": "stream",
          "name": "stdout",
          "text": [
            "Detecting Outliers below\n",
            "max threshold: 393.9999999999998\n",
            "    Name  Weight\n",
            "8  Rohit     600\n"
          ]
        }
      ]
    },
    {
      "cell_type": "code",
      "source": [
        "import pandas as pd\n",
        "df2=pd.read_csv(\"/content/actual_house_price_india.csv\")\n",
        "print(df2.head())\n",
        "print(df2.shape)\n",
        "min_threshold,max_threshold=df2['price_per_sqft'].quantile([0.1,0.9])\n",
        "print(\"Threshold-\",min_threshold,max_threshold)\n",
        "df2nooutlier=df2[(df2['price_per_sqft']>min_threshold)&(df2['price_per_sqft']<max_threshold)]\n",
        "print(df2nooutlier)\n",
        "df2nooutlier.to_csv(\"actual_house_price_india.csv\",index=False)\n",
        "print(df2nooutlier.shape)\n",
        "#"
      ],
      "metadata": {
        "colab": {
          "base_uri": "https://localhost:8080/"
        },
        "id": "Z-jXuaFthbkN",
        "outputId": "9567a013-d3a7-4cb0-9847-f22f43fc8724"
      },
      "execution_count": null,
      "outputs": [
        {
          "output_type": "stream",
          "name": "stdout",
          "text": [
            "             location       size  total_sqft  bath  price  bhk  price_per_sqft\n",
            "0    Chikka Tirupathi  4 Bedroom      2600.0   5.0  120.0    4            4615\n",
            "1         Uttarahalli      3 BHK      1440.0   2.0   62.0    3            4305\n",
            "2  Lingadheeranahalli      3 BHK      1521.0   3.0   95.0    3            6245\n",
            "3            Kothanur      2 BHK      1200.0   2.0   51.0    2            4250\n",
            "4    Old Airport Road      4 BHK      2732.0   4.0  204.0    4            7467\n",
            "(8409, 7)\n",
            "Threshold- 4252.0 7399.2\n",
            "                   location       size  total_sqft  ...   price  bhk  price_per_sqft\n",
            "0          Chikka Tirupathi  4 Bedroom      2600.0  ...  120.00    4            4615\n",
            "1               Uttarahalli      3 BHK      1440.0  ...   62.00    3            4305\n",
            "2        Lingadheeranahalli      3 BHK      1521.0  ...   95.00    3            6245\n",
            "5              Marathahalli      3 BHK      1310.0  ...   63.25    3            4828\n",
            "6                  Sarjapur  3 Bedroom      2250.0  ...  148.00    3            6577\n",
            "...                     ...        ...         ...  ...     ...  ...             ...\n",
            "8403           Yeshwanthpur      3 BHK      1675.0  ...   92.13    3            5500\n",
            "8404           Rachenahalli      2 BHK      1050.0  ...   52.71    2            5020\n",
            "8406      Green Glen Layout      3 BHK      1715.0  ...  112.00    3            6530\n",
            "8407             Whitefield  5 Bedroom      3453.0  ...  231.00    5            6689\n",
            "8408  Raja Rajeshwari Nagar      2 BHK      1141.0  ...   60.00    2            5258\n",
            "\n",
            "[6724 rows x 7 columns]\n",
            "(6724, 7)\n"
          ]
        }
      ]
    },
    {
      "cell_type": "code",
      "source": [
        "ord('h')"
      ],
      "metadata": {
        "colab": {
          "base_uri": "https://localhost:8080/"
        },
        "id": "x7bQZklda2Y-",
        "outputId": "840c3e21-d1ca-4855-ba04-7164d327363a"
      },
      "execution_count": 3,
      "outputs": [
        {
          "output_type": "execute_result",
          "data": {
            "text/plain": [
              "104"
            ]
          },
          "metadata": {},
          "execution_count": 3
        }
      ]
    },
    {
      "cell_type": "code",
      "source": [
        "a=input(\"enter your car type\")\n",
        "if a=='4X2':\n",
        "    print(\"fee is 10\")\n",
        "if a=='4X4':\n",
        "    print(\"fee is 20\")"
      ],
      "metadata": {
        "colab": {
          "base_uri": "https://localhost:8080/"
        },
        "id": "1Bm6VAb_mEne",
        "outputId": "04bce17d-b8b1-4e83-e964-e463c1f8451a"
      },
      "execution_count": 22,
      "outputs": [
        {
          "output_type": "stream",
          "name": "stdout",
          "text": [
            "enter your car type4X4\n",
            "fee is 20\n"
          ]
        }
      ]
    },
    {
      "cell_type": "code",
      "source": [
        ""
      ],
      "metadata": {
        "id": "33yINDAqzaTf"
      },
      "execution_count": 18,
      "outputs": []
    }
  ]
}